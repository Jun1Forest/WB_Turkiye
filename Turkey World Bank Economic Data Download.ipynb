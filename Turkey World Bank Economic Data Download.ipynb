{
 "cells": [
  {
   "cell_type": "markdown",
   "id": "ad1cc89c",
   "metadata": {},
   "source": [
    "Vietnam FDI Total Reserves\n",
    "ベトナムの外貨準備"
   ]
  },
  {
   "cell_type": "markdown",
   "id": "2701e559",
   "metadata": {},
   "source": [
    "world bankの以下のウェブサイトからダウンロードした csvファイルの最初の４行の不要部分を消去する。\n",
    "https://data.worldbank.org/country/vietnam?view=chart\n"
   ]
  },
  {
   "cell_type": "code",
   "execution_count": 3,
   "id": "39fba008",
   "metadata": {},
   "outputs": [],
   "source": [
    "import pandas as pd\n",
    "import numpy as np\n",
    "import matplotlib.pyplot as plt\n",
    "%matplotlib inline"
   ]
  },
  {
   "cell_type": "code",
   "execution_count": 4,
   "id": "f4c651a1",
   "metadata": {},
   "outputs": [],
   "source": [
    "df = pd.read_csv(\"data/API_TUR_DS2_en_csv_v2_5457221.csv\", on_bad_lines = 'warn', encoding ='utf-8')"
   ]
  },
  {
   "cell_type": "code",
   "execution_count": 5,
   "id": "0e4fec7c",
   "metadata": {},
   "outputs": [],
   "source": [
    "country = df[\"Country Name\"][0]"
   ]
  },
  {
   "cell_type": "code",
   "execution_count": 6,
   "id": "16c8a433",
   "metadata": {},
   "outputs": [
    {
     "data": {
      "text/plain": [
       "(1478, 67)"
      ]
     },
     "execution_count": 6,
     "metadata": {},
     "output_type": "execute_result"
    }
   ],
   "source": [
    "df.shape"
   ]
  },
  {
   "cell_type": "code",
   "execution_count": 7,
   "id": "1f59a504",
   "metadata": {},
   "outputs": [],
   "source": [
    "df1 = df.drop([\"Country Name\", \"Country Code\", \"Indicator Code\"], axis = 1)"
   ]
  },
  {
   "cell_type": "code",
   "execution_count": 8,
   "id": "ce3a9feb",
   "metadata": {},
   "outputs": [],
   "source": [
    "df1 = df1.set_index('Indicator Name')"
   ]
  },
  {
   "cell_type": "code",
   "execution_count": 9,
   "id": "5e192782",
   "metadata": {},
   "outputs": [],
   "source": [
    "df2 = df1.iloc[:, 40:]"
   ]
  },
  {
   "cell_type": "code",
   "execution_count": 10,
   "id": "bb576c15",
   "metadata": {},
   "outputs": [
    {
     "data": {
      "text/html": [
       "<div>\n",
       "<style scoped>\n",
       "    .dataframe tbody tr th:only-of-type {\n",
       "        vertical-align: middle;\n",
       "    }\n",
       "\n",
       "    .dataframe tbody tr th {\n",
       "        vertical-align: top;\n",
       "    }\n",
       "\n",
       "    .dataframe thead th {\n",
       "        text-align: right;\n",
       "    }\n",
       "</style>\n",
       "<table border=\"1\" class=\"dataframe\">\n",
       "  <thead>\n",
       "    <tr style=\"text-align: right;\">\n",
       "      <th></th>\n",
       "      <th>2000</th>\n",
       "      <th>2001</th>\n",
       "      <th>2002</th>\n",
       "      <th>2003</th>\n",
       "      <th>2004</th>\n",
       "      <th>2005</th>\n",
       "      <th>2006</th>\n",
       "      <th>2007</th>\n",
       "      <th>2008</th>\n",
       "      <th>2009</th>\n",
       "      <th>...</th>\n",
       "      <th>2013</th>\n",
       "      <th>2014</th>\n",
       "      <th>2015</th>\n",
       "      <th>2016</th>\n",
       "      <th>2017</th>\n",
       "      <th>2018</th>\n",
       "      <th>2019</th>\n",
       "      <th>2020</th>\n",
       "      <th>2021</th>\n",
       "      <th>2022</th>\n",
       "    </tr>\n",
       "    <tr>\n",
       "      <th>Indicator Name</th>\n",
       "      <th></th>\n",
       "      <th></th>\n",
       "      <th></th>\n",
       "      <th></th>\n",
       "      <th></th>\n",
       "      <th></th>\n",
       "      <th></th>\n",
       "      <th></th>\n",
       "      <th></th>\n",
       "      <th></th>\n",
       "      <th></th>\n",
       "      <th></th>\n",
       "      <th></th>\n",
       "      <th></th>\n",
       "      <th></th>\n",
       "      <th></th>\n",
       "      <th></th>\n",
       "      <th></th>\n",
       "      <th></th>\n",
       "      <th></th>\n",
       "      <th></th>\n",
       "    </tr>\n",
       "  </thead>\n",
       "  <tbody>\n",
       "    <tr>\n",
       "      <th>Intentional homicides, male (per 100,000 male)</th>\n",
       "      <td>NaN</td>\n",
       "      <td>NaN</td>\n",
       "      <td>NaN</td>\n",
       "      <td>6.689673e+00</td>\n",
       "      <td>6.775106e+00</td>\n",
       "      <td>7.810938e+00</td>\n",
       "      <td>7.483252e+00</td>\n",
       "      <td>8.428052e+00</td>\n",
       "      <td>7.499622e+00</td>\n",
       "      <td>NaN</td>\n",
       "      <td>...</td>\n",
       "      <td>NaN</td>\n",
       "      <td>NaN</td>\n",
       "      <td>4.548119e+00</td>\n",
       "      <td>5.551665e+00</td>\n",
       "      <td>5.130638e+00</td>\n",
       "      <td>4.237111e+00</td>\n",
       "      <td>3.749975e+00</td>\n",
       "      <td>4.094069e+00</td>\n",
       "      <td>4.005664e+00</td>\n",
       "      <td>NaN</td>\n",
       "    </tr>\n",
       "    <tr>\n",
       "      <th>Internally displaced persons, new displacement associated with conflict and violence (number of cases)</th>\n",
       "      <td>NaN</td>\n",
       "      <td>NaN</td>\n",
       "      <td>NaN</td>\n",
       "      <td>NaN</td>\n",
       "      <td>NaN</td>\n",
       "      <td>NaN</td>\n",
       "      <td>NaN</td>\n",
       "      <td>NaN</td>\n",
       "      <td>NaN</td>\n",
       "      <td>NaN</td>\n",
       "      <td>...</td>\n",
       "      <td>NaN</td>\n",
       "      <td>NaN</td>\n",
       "      <td>NaN</td>\n",
       "      <td>2.040000e+05</td>\n",
       "      <td>NaN</td>\n",
       "      <td>NaN</td>\n",
       "      <td>2.000000e+03</td>\n",
       "      <td>NaN</td>\n",
       "      <td>NaN</td>\n",
       "      <td>NaN</td>\n",
       "    </tr>\n",
       "    <tr>\n",
       "      <th>Voice and Accountability: Percentile Rank, Lower Bound of 90% Confidence Interval</th>\n",
       "      <td>3.034826e+01</td>\n",
       "      <td>NaN</td>\n",
       "      <td>3.432836e+01</td>\n",
       "      <td>4.029851e+01</td>\n",
       "      <td>4.134615e+01</td>\n",
       "      <td>4.134615e+01</td>\n",
       "      <td>3.701923e+01</td>\n",
       "      <td>3.750000e+01</td>\n",
       "      <td>3.990385e+01</td>\n",
       "      <td>3.981042e+01</td>\n",
       "      <td>...</td>\n",
       "      <td>3.380282e+01</td>\n",
       "      <td>3.054187e+01</td>\n",
       "      <td>2.857143e+01</td>\n",
       "      <td>2.364532e+01</td>\n",
       "      <td>2.266010e+01</td>\n",
       "      <td>1.884058e+01</td>\n",
       "      <td>2.028986e+01</td>\n",
       "      <td>2.028986e+01</td>\n",
       "      <td>1.980676e+01</td>\n",
       "      <td>NaN</td>\n",
       "    </tr>\n",
       "    <tr>\n",
       "      <th>Travel services (% of commercial service exports)</th>\n",
       "      <td>3.983515e+01</td>\n",
       "      <td>5.392255e+01</td>\n",
       "      <td>6.065961e+01</td>\n",
       "      <td>7.418275e+01</td>\n",
       "      <td>7.144234e+01</td>\n",
       "      <td>6.978038e+01</td>\n",
       "      <td>6.776260e+01</td>\n",
       "      <td>6.563524e+01</td>\n",
       "      <td>6.374823e+01</td>\n",
       "      <td>6.499604e+01</td>\n",
       "      <td>...</td>\n",
       "      <td>4.893407e+01</td>\n",
       "      <td>4.884099e+01</td>\n",
       "      <td>4.943086e+01</td>\n",
       "      <td>4.173964e+01</td>\n",
       "      <td>4.314293e+01</td>\n",
       "      <td>4.428393e+01</td>\n",
       "      <td>5.164782e+01</td>\n",
       "      <td>3.519379e+01</td>\n",
       "      <td>4.361439e+01</td>\n",
       "      <td>4.595741e+01</td>\n",
       "    </tr>\n",
       "    <tr>\n",
       "      <th>Commercial service exports (current US$)</th>\n",
       "      <td>1.916900e+10</td>\n",
       "      <td>1.500300e+10</td>\n",
       "      <td>1.397800e+10</td>\n",
       "      <td>1.792600e+10</td>\n",
       "      <td>2.283100e+10</td>\n",
       "      <td>2.750200e+10</td>\n",
       "      <td>2.576200e+10</td>\n",
       "      <td>2.960300e+10</td>\n",
       "      <td>3.665200e+10</td>\n",
       "      <td>3.535600e+10</td>\n",
       "      <td>...</td>\n",
       "      <td>5.877500e+10</td>\n",
       "      <td>6.220800e+10</td>\n",
       "      <td>5.525900e+10</td>\n",
       "      <td>4.579100e+10</td>\n",
       "      <td>5.323700e+10</td>\n",
       "      <td>5.856300e+10</td>\n",
       "      <td>6.642100e+10</td>\n",
       "      <td>3.787600e+10</td>\n",
       "      <td>6.106700e+10</td>\n",
       "      <td>8.959600e+10</td>\n",
       "    </tr>\n",
       "  </tbody>\n",
       "</table>\n",
       "<p>5 rows × 23 columns</p>\n",
       "</div>"
      ],
      "text/plain": [
       "                                                            2000  \\\n",
       "Indicator Name                                                     \n",
       "Intentional homicides, male (per 100,000 male)               NaN   \n",
       "Internally displaced persons, new displacement ...           NaN   \n",
       "Voice and Accountability: Percentile Rank, Lowe...  3.034826e+01   \n",
       "Travel services (% of commercial service exports)   3.983515e+01   \n",
       "Commercial service exports (current US$)            1.916900e+10   \n",
       "\n",
       "                                                            2001  \\\n",
       "Indicator Name                                                     \n",
       "Intentional homicides, male (per 100,000 male)               NaN   \n",
       "Internally displaced persons, new displacement ...           NaN   \n",
       "Voice and Accountability: Percentile Rank, Lowe...           NaN   \n",
       "Travel services (% of commercial service exports)   5.392255e+01   \n",
       "Commercial service exports (current US$)            1.500300e+10   \n",
       "\n",
       "                                                            2002  \\\n",
       "Indicator Name                                                     \n",
       "Intentional homicides, male (per 100,000 male)               NaN   \n",
       "Internally displaced persons, new displacement ...           NaN   \n",
       "Voice and Accountability: Percentile Rank, Lowe...  3.432836e+01   \n",
       "Travel services (% of commercial service exports)   6.065961e+01   \n",
       "Commercial service exports (current US$)            1.397800e+10   \n",
       "\n",
       "                                                            2003  \\\n",
       "Indicator Name                                                     \n",
       "Intentional homicides, male (per 100,000 male)      6.689673e+00   \n",
       "Internally displaced persons, new displacement ...           NaN   \n",
       "Voice and Accountability: Percentile Rank, Lowe...  4.029851e+01   \n",
       "Travel services (% of commercial service exports)   7.418275e+01   \n",
       "Commercial service exports (current US$)            1.792600e+10   \n",
       "\n",
       "                                                            2004  \\\n",
       "Indicator Name                                                     \n",
       "Intentional homicides, male (per 100,000 male)      6.775106e+00   \n",
       "Internally displaced persons, new displacement ...           NaN   \n",
       "Voice and Accountability: Percentile Rank, Lowe...  4.134615e+01   \n",
       "Travel services (% of commercial service exports)   7.144234e+01   \n",
       "Commercial service exports (current US$)            2.283100e+10   \n",
       "\n",
       "                                                            2005  \\\n",
       "Indicator Name                                                     \n",
       "Intentional homicides, male (per 100,000 male)      7.810938e+00   \n",
       "Internally displaced persons, new displacement ...           NaN   \n",
       "Voice and Accountability: Percentile Rank, Lowe...  4.134615e+01   \n",
       "Travel services (% of commercial service exports)   6.978038e+01   \n",
       "Commercial service exports (current US$)            2.750200e+10   \n",
       "\n",
       "                                                            2006  \\\n",
       "Indicator Name                                                     \n",
       "Intentional homicides, male (per 100,000 male)      7.483252e+00   \n",
       "Internally displaced persons, new displacement ...           NaN   \n",
       "Voice and Accountability: Percentile Rank, Lowe...  3.701923e+01   \n",
       "Travel services (% of commercial service exports)   6.776260e+01   \n",
       "Commercial service exports (current US$)            2.576200e+10   \n",
       "\n",
       "                                                            2007  \\\n",
       "Indicator Name                                                     \n",
       "Intentional homicides, male (per 100,000 male)      8.428052e+00   \n",
       "Internally displaced persons, new displacement ...           NaN   \n",
       "Voice and Accountability: Percentile Rank, Lowe...  3.750000e+01   \n",
       "Travel services (% of commercial service exports)   6.563524e+01   \n",
       "Commercial service exports (current US$)            2.960300e+10   \n",
       "\n",
       "                                                            2008  \\\n",
       "Indicator Name                                                     \n",
       "Intentional homicides, male (per 100,000 male)      7.499622e+00   \n",
       "Internally displaced persons, new displacement ...           NaN   \n",
       "Voice and Accountability: Percentile Rank, Lowe...  3.990385e+01   \n",
       "Travel services (% of commercial service exports)   6.374823e+01   \n",
       "Commercial service exports (current US$)            3.665200e+10   \n",
       "\n",
       "                                                            2009  ...  \\\n",
       "Indicator Name                                                    ...   \n",
       "Intentional homicides, male (per 100,000 male)               NaN  ...   \n",
       "Internally displaced persons, new displacement ...           NaN  ...   \n",
       "Voice and Accountability: Percentile Rank, Lowe...  3.981042e+01  ...   \n",
       "Travel services (% of commercial service exports)   6.499604e+01  ...   \n",
       "Commercial service exports (current US$)            3.535600e+10  ...   \n",
       "\n",
       "                                                            2013  \\\n",
       "Indicator Name                                                     \n",
       "Intentional homicides, male (per 100,000 male)               NaN   \n",
       "Internally displaced persons, new displacement ...           NaN   \n",
       "Voice and Accountability: Percentile Rank, Lowe...  3.380282e+01   \n",
       "Travel services (% of commercial service exports)   4.893407e+01   \n",
       "Commercial service exports (current US$)            5.877500e+10   \n",
       "\n",
       "                                                            2014  \\\n",
       "Indicator Name                                                     \n",
       "Intentional homicides, male (per 100,000 male)               NaN   \n",
       "Internally displaced persons, new displacement ...           NaN   \n",
       "Voice and Accountability: Percentile Rank, Lowe...  3.054187e+01   \n",
       "Travel services (% of commercial service exports)   4.884099e+01   \n",
       "Commercial service exports (current US$)            6.220800e+10   \n",
       "\n",
       "                                                            2015  \\\n",
       "Indicator Name                                                     \n",
       "Intentional homicides, male (per 100,000 male)      4.548119e+00   \n",
       "Internally displaced persons, new displacement ...           NaN   \n",
       "Voice and Accountability: Percentile Rank, Lowe...  2.857143e+01   \n",
       "Travel services (% of commercial service exports)   4.943086e+01   \n",
       "Commercial service exports (current US$)            5.525900e+10   \n",
       "\n",
       "                                                            2016  \\\n",
       "Indicator Name                                                     \n",
       "Intentional homicides, male (per 100,000 male)      5.551665e+00   \n",
       "Internally displaced persons, new displacement ...  2.040000e+05   \n",
       "Voice and Accountability: Percentile Rank, Lowe...  2.364532e+01   \n",
       "Travel services (% of commercial service exports)   4.173964e+01   \n",
       "Commercial service exports (current US$)            4.579100e+10   \n",
       "\n",
       "                                                            2017  \\\n",
       "Indicator Name                                                     \n",
       "Intentional homicides, male (per 100,000 male)      5.130638e+00   \n",
       "Internally displaced persons, new displacement ...           NaN   \n",
       "Voice and Accountability: Percentile Rank, Lowe...  2.266010e+01   \n",
       "Travel services (% of commercial service exports)   4.314293e+01   \n",
       "Commercial service exports (current US$)            5.323700e+10   \n",
       "\n",
       "                                                            2018  \\\n",
       "Indicator Name                                                     \n",
       "Intentional homicides, male (per 100,000 male)      4.237111e+00   \n",
       "Internally displaced persons, new displacement ...           NaN   \n",
       "Voice and Accountability: Percentile Rank, Lowe...  1.884058e+01   \n",
       "Travel services (% of commercial service exports)   4.428393e+01   \n",
       "Commercial service exports (current US$)            5.856300e+10   \n",
       "\n",
       "                                                            2019  \\\n",
       "Indicator Name                                                     \n",
       "Intentional homicides, male (per 100,000 male)      3.749975e+00   \n",
       "Internally displaced persons, new displacement ...  2.000000e+03   \n",
       "Voice and Accountability: Percentile Rank, Lowe...  2.028986e+01   \n",
       "Travel services (% of commercial service exports)   5.164782e+01   \n",
       "Commercial service exports (current US$)            6.642100e+10   \n",
       "\n",
       "                                                            2020  \\\n",
       "Indicator Name                                                     \n",
       "Intentional homicides, male (per 100,000 male)      4.094069e+00   \n",
       "Internally displaced persons, new displacement ...           NaN   \n",
       "Voice and Accountability: Percentile Rank, Lowe...  2.028986e+01   \n",
       "Travel services (% of commercial service exports)   3.519379e+01   \n",
       "Commercial service exports (current US$)            3.787600e+10   \n",
       "\n",
       "                                                            2021          2022  \n",
       "Indicator Name                                                                  \n",
       "Intentional homicides, male (per 100,000 male)      4.005664e+00           NaN  \n",
       "Internally displaced persons, new displacement ...           NaN           NaN  \n",
       "Voice and Accountability: Percentile Rank, Lowe...  1.980676e+01           NaN  \n",
       "Travel services (% of commercial service exports)   4.361439e+01  4.595741e+01  \n",
       "Commercial service exports (current US$)            6.106700e+10  8.959600e+10  \n",
       "\n",
       "[5 rows x 23 columns]"
      ]
     },
     "execution_count": 10,
     "metadata": {},
     "output_type": "execute_result"
    }
   ],
   "source": [
    "df2.head()"
   ]
  },
  {
   "cell_type": "code",
   "execution_count": 11,
   "id": "9dda5a03",
   "metadata": {},
   "outputs": [],
   "source": [
    "allindex=list(df2.index.tolist())\n",
    "#allindex"
   ]
  },
  {
   "cell_type": "code",
   "execution_count": 12,
   "id": "77e6a283",
   "metadata": {},
   "outputs": [],
   "source": [
    "indexlist = pd.DataFrame(allindex)\n",
    "indexlist.to_csv('result/test.csv')"
   ]
  },
  {
   "cell_type": "code",
   "execution_count": 48,
   "id": "d312c5a7",
   "metadata": {},
   "outputs": [],
   "source": [
    "# make up a list of one word with capital letters. Please give the key_word to list up indicators with the word.\n",
    "key_word = 'inflation'\n",
    "capitalized = key_word.capitalize()\n",
    "key_words_list = [key_word, capitalized]"
   ]
  },
  {
   "cell_type": "code",
   "execution_count": 49,
   "id": "ba73a6b6",
   "metadata": {},
   "outputs": [],
   "source": [
    "possible_index = []\n",
    "for i in indexlist[0]:\n",
    "    for j in key_words_list:\n",
    "        if j in i:\n",
    "            possible_index.append(i)\n",
    "        "
   ]
  },
  {
   "cell_type": "code",
   "execution_count": 50,
   "id": "7cf495aa",
   "metadata": {},
   "outputs": [
    {
     "data": {
      "text/plain": [
       "['Inflation, consumer prices (annual %)',\n",
       " 'Inflation, GDP deflator (annual %)',\n",
       " 'Inflation, GDP deflator: linked series (annual %)']"
      ]
     },
     "execution_count": 50,
     "metadata": {},
     "output_type": "execute_result"
    }
   ],
   "source": [
    "possible_index"
   ]
  },
  {
   "cell_type": "code",
   "execution_count": 51,
   "id": "a583b95c",
   "metadata": {},
   "outputs": [],
   "source": [
    "df3 = df2.loc[possible_index]\n",
    "df4 = df3.dropna(thresh=11)"
   ]
  },
  {
   "cell_type": "code",
   "execution_count": 52,
   "id": "317a9a58",
   "metadata": {},
   "outputs": [],
   "source": [
    "df4 = df4.astype(float)\n",
    "#df4.iloc[0]"
   ]
  },
  {
   "cell_type": "code",
   "execution_count": 53,
   "id": "8e260999",
   "metadata": {},
   "outputs": [],
   "source": [
    "item_numbers = len(df4)"
   ]
  },
  {
   "cell_type": "code",
   "execution_count": 54,
   "id": "07836771",
   "metadata": {
    "scrolled": false
   },
   "outputs": [
    {
     "data": {
      "image/png": "[encoded data removed]",
      "text/plain": [
       "<Figure size 600x750 with 3 Axes>"
      ]
     },
     "metadata": {},
     "output_type": "display_data"
    }
   ],
   "source": [
    "fig, ax = plt.subplots(item_numbers, figsize=(6, 2.5*item_numbers ))\n",
    "\n",
    "for i in range(item_numbers):\n",
    "    ax[i].plot(df4.iloc[i])\n",
    "    ax[i].set_title (df4.index[i])\n",
    "    ax[i].tick_params(axis='x', labelrotation=90)\n",
    "    ax[i].grid()\n",
    "fig.tight_layout(rect=[0,0,1,0.96])    \n",
    "plt.savefig(\"result/\" + country + ' ' + key_word +  \".jpg\")\n"
   ]
  },
  {
   "cell_type": "code",
   "execution_count": null,
   "id": "92be9ece",
   "metadata": {},
   "outputs": [],
   "source": []
  }
 ],
 "metadata": {
  "kernelspec": {
   "display_name": "Python 3 (ipykernel)",
   "language": "python",
   "name": "python3"
  },
  "language_info": {
   "codemirror_mode": {
    "name": "ipython",
    "version": 3
   },
   "file_extension": ".py",
   "mimetype": "text/x-python",
   "name": "python",
   "nbconvert_exporter": "python",
   "pygments_lexer": "ipython3",
   "version": "3.9.16"
  }
 },
 "nbformat": 4,
 "nbformat_minor": 5
}
